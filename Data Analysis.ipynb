{
 "cells": [
  {
   "cell_type": "markdown",
   "id": "c93679f4-d450-43d4-b610-9fe0ab7b339c",
   "metadata": {},
   "source": [
    "### Data Science\n"
   ]
  },
  {
   "cell_type": "code",
   "execution_count": 2,
   "id": "bf260b57-50c6-47a5-8b5e-1a8b31604e95",
   "metadata": {},
   "outputs": [
    {
     "name": "stdout",
     "output_type": "stream",
     "text": [
      "Requirement already satisfied: pandas in c:\\users\\user\\anaconda3\\lib\\site-packages (1.5.3)\n",
      "Requirement already satisfied: numpy in c:\\users\\user\\anaconda3\\lib\\site-packages (1.24.3)\n",
      "Requirement already satisfied: matplotlib in c:\\users\\user\\anaconda3\\lib\\site-packages (3.7.1)\n",
      "Requirement already satisfied: seaborn in c:\\users\\user\\anaconda3\\lib\\site-packages (0.12.2)\n",
      "Requirement already satisfied: scikit-learn in c:\\users\\user\\anaconda3\\lib\\site-packages (1.3.0)\n",
      "Requirement already satisfied: python-dateutil>=2.8.1 in c:\\users\\user\\anaconda3\\lib\\site-packages (from pandas) (2.8.2)\n",
      "Requirement already satisfied: pytz>=2020.1 in c:\\users\\user\\anaconda3\\lib\\site-packages (from pandas) (2022.7)\n",
      "Requirement already satisfied: contourpy>=1.0.1 in c:\\users\\user\\anaconda3\\lib\\site-packages (from matplotlib) (1.0.5)\n",
      "Requirement already satisfied: cycler>=0.10 in c:\\users\\user\\anaconda3\\lib\\site-packages (from matplotlib) (0.11.0)\n",
      "Requirement already satisfied: fonttools>=4.22.0 in c:\\users\\user\\anaconda3\\lib\\site-packages (from matplotlib) (4.25.0)\n",
      "Requirement already satisfied: kiwisolver>=1.0.1 in c:\\users\\user\\anaconda3\\lib\\site-packages (from matplotlib) (1.4.4)\n",
      "Requirement already satisfied: packaging>=20.0 in c:\\users\\user\\anaconda3\\lib\\site-packages (from matplotlib) (23.0)\n",
      "Requirement already satisfied: pillow>=6.2.0 in c:\\users\\user\\anaconda3\\lib\\site-packages (from matplotlib) (10.3.0)\n",
      "Requirement already satisfied: pyparsing>=2.3.1 in c:\\users\\user\\anaconda3\\lib\\site-packages (from matplotlib) (3.0.9)\n",
      "Requirement already satisfied: scipy>=1.5.0 in c:\\users\\user\\anaconda3\\lib\\site-packages (from scikit-learn) (1.10.1)\n",
      "Requirement already satisfied: joblib>=1.1.1 in c:\\users\\user\\anaconda3\\lib\\site-packages (from scikit-learn) (1.2.0)\n",
      "Requirement already satisfied: threadpoolctl>=2.0.0 in c:\\users\\user\\anaconda3\\lib\\site-packages (from scikit-learn) (2.2.0)\n",
      "Requirement already satisfied: six>=1.5 in c:\\users\\user\\anaconda3\\lib\\site-packages (from python-dateutil>=2.8.1->pandas) (1.16.0)\n",
      "Note: you may need to restart the kernel to use updated packages.\n"
     ]
    }
   ],
   "source": [
    "pip install pandas numpy matplotlib seaborn scikit-learn"
   ]
  },
  {
   "cell_type": "code",
   "execution_count": 3,
   "id": "9eacb18c-0d0b-4f3b-9449-4c2ff3ceaf76",
   "metadata": {},
   "outputs": [],
   "source": [
    "import pandas as pd\n",
    "import numpy as np\n",
    "import matplotlib.pyplot as plt"
   ]
  },
  {
   "cell_type": "code",
   "execution_count": 8,
   "id": "f54ea246-91e0-4df8-9e0c-9604845efafb",
   "metadata": {},
   "outputs": [],
   "source": [
    "#load the simulated dataset\n",
    "df = pd.read_csv('simulated_giftcard_data.csv.txt')"
   ]
  },
  {
   "cell_type": "code",
   "execution_count": 9,
   "id": "66a83ced-c939-4b12-ad4f-0a20a9bc6909",
   "metadata": {},
   "outputs": [
    {
     "data": {
      "text/html": [
       "<div>\n",
       "<style scoped>\n",
       "    .dataframe tbody tr th:only-of-type {\n",
       "        vertical-align: middle;\n",
       "    }\n",
       "\n",
       "    .dataframe tbody tr th {\n",
       "        vertical-align: top;\n",
       "    }\n",
       "\n",
       "    .dataframe thead th {\n",
       "        text-align: right;\n",
       "    }\n",
       "</style>\n",
       "<table border=\"1\" class=\"dataframe\">\n",
       "  <thead>\n",
       "    <tr style=\"text-align: right;\">\n",
       "      <th></th>\n",
       "      <th>transaction_id</th>\n",
       "      <th>user_id</th>\n",
       "      <th>card_type</th>\n",
       "      <th>amount_usd</th>\n",
       "      <th>rate_ngn</th>\n",
       "      <th>timestamp</th>\n",
       "      <th>is_fraud</th>\n",
       "    </tr>\n",
       "  </thead>\n",
       "  <tbody>\n",
       "    <tr>\n",
       "      <th>0</th>\n",
       "      <td>1</td>\n",
       "      <td>39</td>\n",
       "      <td>Amazon</td>\n",
       "      <td>322.34</td>\n",
       "      <td>531.38</td>\n",
       "      <td>2025-01-01 00:00:00</td>\n",
       "      <td>0</td>\n",
       "    </tr>\n",
       "    <tr>\n",
       "      <th>1</th>\n",
       "      <td>2</td>\n",
       "      <td>29</td>\n",
       "      <td>Steam</td>\n",
       "      <td>NaN</td>\n",
       "      <td>518.47</td>\n",
       "      <td>2025-01-01 01:00:00</td>\n",
       "      <td>0</td>\n",
       "    </tr>\n",
       "    <tr>\n",
       "      <th>2</th>\n",
       "      <td>3</td>\n",
       "      <td>15</td>\n",
       "      <td>Amazon</td>\n",
       "      <td>488.17</td>\n",
       "      <td>466.26</td>\n",
       "      <td>2025-01-01 02:00:00</td>\n",
       "      <td>1</td>\n",
       "    </tr>\n",
       "    <tr>\n",
       "      <th>3</th>\n",
       "      <td>4</td>\n",
       "      <td>43</td>\n",
       "      <td>Amazon</td>\n",
       "      <td>262.99</td>\n",
       "      <td>541.09</td>\n",
       "      <td>2025-01-01 03:00:00</td>\n",
       "      <td>0</td>\n",
       "    </tr>\n",
       "    <tr>\n",
       "      <th>4</th>\n",
       "      <td>5</td>\n",
       "      <td>8</td>\n",
       "      <td>iTunes</td>\n",
       "      <td>168.25</td>\n",
       "      <td>532.25</td>\n",
       "      <td>2025-01-01 04:00:00</td>\n",
       "      <td>0</td>\n",
       "    </tr>\n",
       "  </tbody>\n",
       "</table>\n",
       "</div>"
      ],
      "text/plain": [
       "   transaction_id  user_id card_type  amount_usd  rate_ngn  \\\n",
       "0               1       39    Amazon      322.34    531.38   \n",
       "1               2       29     Steam         NaN    518.47   \n",
       "2               3       15    Amazon      488.17    466.26   \n",
       "3               4       43    Amazon      262.99    541.09   \n",
       "4               5        8    iTunes      168.25    532.25   \n",
       "\n",
       "             timestamp  is_fraud  \n",
       "0  2025-01-01 00:00:00         0  \n",
       "1  2025-01-01 01:00:00         0  \n",
       "2  2025-01-01 02:00:00         1  \n",
       "3  2025-01-01 03:00:00         0  \n",
       "4  2025-01-01 04:00:00         0  "
      ]
     },
     "execution_count": 9,
     "metadata": {},
     "output_type": "execute_result"
    }
   ],
   "source": [
    "# take a peak at the first 5 rows of the data\n",
    "df.head()"
   ]
  },
  {
   "cell_type": "code",
   "execution_count": 10,
   "id": "aaf14594-dd4e-4019-b615-d37dc6aafa12",
   "metadata": {},
   "outputs": [
    {
     "name": "stdout",
     "output_type": "stream",
     "text": [
      "Shape: (200, 7)\n"
     ]
    }
   ],
   "source": [
    "# check the shape of the data\n",
    "print(\"Shape:\", df.shape)"
   ]
  },
  {
   "cell_type": "code",
   "execution_count": 11,
   "id": "50f18e3b-2a1f-4b2b-8c23-5c3033e9ef9c",
   "metadata": {},
   "outputs": [
    {
     "data": {
      "text/plain": [
       "['transaction_id',\n",
       " 'user_id',\n",
       " 'card_type',\n",
       " 'amount_usd',\n",
       " 'rate_ngn',\n",
       " 'timestamp',\n",
       " 'is_fraud']"
      ]
     },
     "execution_count": 11,
     "metadata": {},
     "output_type": "execute_result"
    }
   ],
   "source": [
    "# check the columns in the dataset\n",
    "df.columns.tolist()"
   ]
  },
  {
   "cell_type": "code",
   "execution_count": 12,
   "id": "41cb27e4-8395-464b-9f58-462c0d64b672",
   "metadata": {},
   "outputs": [
    {
     "name": "stdout",
     "output_type": "stream",
     "text": [
      "<class 'pandas.core.frame.DataFrame'>\n",
      "RangeIndex: 200 entries, 0 to 199\n",
      "Data columns (total 7 columns):\n",
      " #   Column          Non-Null Count  Dtype  \n",
      "---  ------          --------------  -----  \n",
      " 0   transaction_id  200 non-null    int64  \n",
      " 1   user_id         200 non-null    int64  \n",
      " 2   card_type       200 non-null    object \n",
      " 3   amount_usd      190 non-null    float64\n",
      " 4   rate_ngn        195 non-null    float64\n",
      " 5   timestamp       200 non-null    object \n",
      " 6   is_fraud        200 non-null    int64  \n",
      "dtypes: float64(2), int64(3), object(2)\n",
      "memory usage: 11.1+ KB\n"
     ]
    }
   ],
   "source": [
    "df.info()"
   ]
  },
  {
   "cell_type": "code",
   "execution_count": 13,
   "id": "55f40442-760b-4420-9ac0-5c67ae0c0911",
   "metadata": {},
   "outputs": [
    {
     "data": {
      "text/html": [
       "<div>\n",
       "<style scoped>\n",
       "    .dataframe tbody tr th:only-of-type {\n",
       "        vertical-align: middle;\n",
       "    }\n",
       "\n",
       "    .dataframe tbody tr th {\n",
       "        vertical-align: top;\n",
       "    }\n",
       "\n",
       "    .dataframe thead th {\n",
       "        text-align: right;\n",
       "    }\n",
       "</style>\n",
       "<table border=\"1\" class=\"dataframe\">\n",
       "  <thead>\n",
       "    <tr style=\"text-align: right;\">\n",
       "      <th></th>\n",
       "      <th>transaction_id</th>\n",
       "      <th>user_id</th>\n",
       "      <th>amount_usd</th>\n",
       "      <th>rate_ngn</th>\n",
       "      <th>is_fraud</th>\n",
       "    </tr>\n",
       "  </thead>\n",
       "  <tbody>\n",
       "    <tr>\n",
       "      <th>count</th>\n",
       "      <td>200.000000</td>\n",
       "      <td>200.000000</td>\n",
       "      <td>190.000000</td>\n",
       "      <td>195.000000</td>\n",
       "      <td>200.000000</td>\n",
       "    </tr>\n",
       "    <tr>\n",
       "      <th>mean</th>\n",
       "      <td>100.500000</td>\n",
       "      <td>24.965000</td>\n",
       "      <td>252.104737</td>\n",
       "      <td>497.478154</td>\n",
       "      <td>0.025000</td>\n",
       "    </tr>\n",
       "    <tr>\n",
       "      <th>std</th>\n",
       "      <td>57.879185</td>\n",
       "      <td>13.999777</td>\n",
       "      <td>149.899295</td>\n",
       "      <td>28.700555</td>\n",
       "      <td>0.156517</td>\n",
       "    </tr>\n",
       "    <tr>\n",
       "      <th>min</th>\n",
       "      <td>1.000000</td>\n",
       "      <td>1.000000</td>\n",
       "      <td>15.310000</td>\n",
       "      <td>451.450000</td>\n",
       "      <td>0.000000</td>\n",
       "    </tr>\n",
       "    <tr>\n",
       "      <th>25%</th>\n",
       "      <td>50.750000</td>\n",
       "      <td>13.000000</td>\n",
       "      <td>122.517500</td>\n",
       "      <td>472.080000</td>\n",
       "      <td>0.000000</td>\n",
       "    </tr>\n",
       "    <tr>\n",
       "      <th>50%</th>\n",
       "      <td>100.500000</td>\n",
       "      <td>25.500000</td>\n",
       "      <td>254.405000</td>\n",
       "      <td>496.080000</td>\n",
       "      <td>0.000000</td>\n",
       "    </tr>\n",
       "    <tr>\n",
       "      <th>75%</th>\n",
       "      <td>150.250000</td>\n",
       "      <td>37.000000</td>\n",
       "      <td>378.477500</td>\n",
       "      <td>520.870000</td>\n",
       "      <td>0.000000</td>\n",
       "    </tr>\n",
       "    <tr>\n",
       "      <th>max</th>\n",
       "      <td>200.000000</td>\n",
       "      <td>49.000000</td>\n",
       "      <td>496.550000</td>\n",
       "      <td>549.970000</td>\n",
       "      <td>1.000000</td>\n",
       "    </tr>\n",
       "  </tbody>\n",
       "</table>\n",
       "</div>"
      ],
      "text/plain": [
       "       transaction_id     user_id  amount_usd    rate_ngn    is_fraud\n",
       "count      200.000000  200.000000  190.000000  195.000000  200.000000\n",
       "mean       100.500000   24.965000  252.104737  497.478154    0.025000\n",
       "std         57.879185   13.999777  149.899295   28.700555    0.156517\n",
       "min          1.000000    1.000000   15.310000  451.450000    0.000000\n",
       "25%         50.750000   13.000000  122.517500  472.080000    0.000000\n",
       "50%        100.500000   25.500000  254.405000  496.080000    0.000000\n",
       "75%        150.250000   37.000000  378.477500  520.870000    0.000000\n",
       "max        200.000000   49.000000  496.550000  549.970000    1.000000"
      ]
     },
     "execution_count": 13,
     "metadata": {},
     "output_type": "execute_result"
    }
   ],
   "source": [
    "df.describe()"
   ]
  },
  {
   "cell_type": "code",
   "execution_count": 14,
   "id": "fe8bb5b4-a902-4c76-945e-4cb05a27a436",
   "metadata": {},
   "outputs": [],
   "source": [
    "cardtype_dict = df['card_type'].value_counts()"
   ]
  },
  {
   "cell_type": "code",
   "execution_count": null,
   "id": "186d452a-4f74-410e-a8a5-8b54e48672b5",
   "metadata": {},
   "outputs": [],
   "source": []
  },
  {
   "cell_type": "code",
   "execution_count": 15,
   "id": "d48c8200-5e58-4183-a2b6-a4566d5f3fab",
   "metadata": {},
   "outputs": [
    {
     "name": "stdout",
     "output_type": "stream",
     "text": [
      "High-Value transactions:\n",
      "    transaction_id  user_id card_type  amount_usd  rate_ngn  \\\n",
      "0               1       39    Amazon      322.34    531.38   \n",
      "2               3       15    Amazon      488.17    466.26   \n",
      "3               4       43    Amazon      262.99    541.09   \n",
      "5               6       21     Steam      399.64    544.98   \n",
      "7               8       19    iTunes      225.10    511.34   \n",
      "\n",
      "             timestamp  is_fraud  \n",
      "0  2025-01-01 00:00:00         0  \n",
      "2  2025-01-01 02:00:00         1  \n",
      "3  2025-01-01 03:00:00         0  \n",
      "5  2025-01-01 05:00:00         0  \n",
      "7  2025-01-01 07:00:00         0  \n"
     ]
    }
   ],
   "source": [
    "high_value = df[df['amount_usd']>200]\n",
    "print(\"High-Value transactions:\\n\", high_value.head())"
   ]
  },
  {
   "cell_type": "code",
   "execution_count": 16,
   "id": "613d91a1-a6f0-47ed-9295-1569b5359478",
   "metadata": {},
   "outputs": [],
   "source": [
    "fraud = df[df['is_fraud']==1]"
   ]
  },
  {
   "cell_type": "code",
   "execution_count": 17,
   "id": "3b248f87-f9a1-49f7-85e3-8f4edec74c74",
   "metadata": {},
   "outputs": [
    {
     "name": "stdout",
     "output_type": "stream",
     "text": [
      "     transaction_id  user_id card_type  amount_usd  rate_ngn  \\\n",
      "2                 3       15    Amazon      488.17    466.26   \n",
      "14               15       24    Amazon       94.91    531.06   \n",
      "107             108       35    Google      166.46    453.93   \n",
      "140             141       14   Netflix      191.61    482.75   \n",
      "144             145       15    iTunes      379.16    517.91   \n",
      "\n",
      "               timestamp  is_fraud  \n",
      "2    2025-01-01 02:00:00         1  \n",
      "14   2025-01-01 14:00:00         1  \n",
      "107  2025-01-05 11:00:00         1  \n",
      "140  2025-01-06 20:00:00         1  \n",
      "144  2025-01-07 00:00:00         1  \n"
     ]
    }
   ],
   "source": [
    "print(fraud)"
   ]
  },
  {
   "cell_type": "markdown",
   "id": "98def697-6a71-46a7-a159-1cc56dfa525b",
   "metadata": {},
   "source": [
    "# Findings from the data so far"
   ]
  },
  {
   "cell_type": "markdown",
   "id": "8965a791-ef98-4237-baa7-b6b59e0cb688",
   "metadata": {},
   "source": [
    "### According to the data, the maximum amount_usd is 496.550000\n",
    "### The card types and the number of times they appear in the dataset are \n",
    "### Amazon     49\n",
    "### Steam      46\n",
    "### Google     41\n",
    "### iTunes     35\n",
    "### Netflix    29\n",
    "\n",
    "### The Fraud cases according to the dataset are \n",
    "### 2    2025-01-01 02:00:00         1  \n",
    "### 14   2025-01-01 14:00:00         1  \n",
    "### 107  2025-01-05 11:00:00         1  \n",
    "### 140  2025-01-06 20:00:00         1  \n",
    "### 144  2025-01-07 00:00:00         1 \n"
   ]
  },
  {
   "cell_type": "code",
   "execution_count": 18,
   "id": "1d13a7cb-759e-43a0-b0a7-2d9c0bbe26ac",
   "metadata": {},
   "outputs": [
    {
     "name": "stdout",
     "output_type": "stream",
     "text": [
      "transaction_id     0\n",
      "user_id            0\n",
      "card_type          0\n",
      "amount_usd        10\n",
      "rate_ngn           5\n",
      "timestamp          0\n",
      "is_fraud           0\n",
      "dtype: int64\n"
     ]
    }
   ],
   "source": [
    "# Checking for missing values\n",
    "print(df.isnull().sum())"
   ]
  },
  {
   "cell_type": "code",
   "execution_count": 19,
   "id": "72a1dd48-803f-417e-9818-2c8eeb593734",
   "metadata": {},
   "outputs": [],
   "source": [
    "df['amount_usd'] = df['amount_usd'].fillna(df['amount_usd'].median())"
   ]
  },
  {
   "cell_type": "code",
   "execution_count": 20,
   "id": "a4417fb7-9e15-4114-b9e2-24466406795d",
   "metadata": {},
   "outputs": [],
   "source": [
    "df['rate_ngn'] = df['rate_ngn'].fillna(df['rate_ngn'].mean())"
   ]
  },
  {
   "cell_type": "code",
   "execution_count": 21,
   "id": "543c58e9-a685-401d-85b8-d82bfe649c19",
   "metadata": {},
   "outputs": [],
   "source": [
    "df['timestamp'] = pd.to_datetime(df['timestamp'])"
   ]
  },
  {
   "cell_type": "code",
   "execution_count": 22,
   "id": "89256f33-a2c4-4824-96ad-7650e8a197df",
   "metadata": {},
   "outputs": [],
   "source": [
    "df = df.drop_duplicates()"
   ]
  },
  {
   "cell_type": "code",
   "execution_count": 23,
   "id": "34a0564c-c213-4f29-86d9-78214d07a5b7",
   "metadata": {},
   "outputs": [
    {
     "name": "stdout",
     "output_type": "stream",
     "text": [
      "After cleaning:\n",
      " transaction_id    0\n",
      "user_id           0\n",
      "card_type         0\n",
      "amount_usd        0\n",
      "rate_ngn          0\n",
      "timestamp         0\n",
      "is_fraud          0\n",
      "dtype: int64\n"
     ]
    }
   ],
   "source": [
    "print(\"After cleaning:\\n\", df.isnull().sum())"
   ]
  },
  {
   "cell_type": "code",
   "execution_count": 24,
   "id": "dc82426c-ac3d-4172-b633-2b4409e166b4",
   "metadata": {},
   "outputs": [
    {
     "name": "stdout",
     "output_type": "stream",
     "text": [
      "Stats by card type:\n",
      "                  mean        sum  count\n",
      "card_type                              \n",
      "Amazon     242.429898  11879.065     49\n",
      "Google     263.207317  10791.500     41\n",
      "Netflix    263.935862   7654.140     29\n",
      "Steam      253.281739  11650.960     46\n",
      "iTunes     241.951000   8468.285     35\n"
     ]
    }
   ],
   "source": [
    "# group by card_type and calculate mean amount_usd\n",
    "card_stats = df.groupby('card_type')['amount_usd'].agg(['mean', 'sum', 'count'])\n",
    "print(\"Stats by card type:\\n\", card_stats)"
   ]
  },
  {
   "cell_type": "code",
   "execution_count": 25,
   "id": "3a520738-0aeb-4b47-82b3-4d04f97fa4f0",
   "metadata": {},
   "outputs": [],
   "source": [
    "# group by fraud and get average amount\n",
    "fraud_stats = df.groupby('is_fraud')['amount_usd'].agg(['mean', 'count'])"
   ]
  },
  {
   "cell_type": "code",
   "execution_count": 26,
   "id": "74dd44b7-834d-41d1-8790-2dc499e614d9",
   "metadata": {},
   "outputs": [
    {
     "name": "stdout",
     "output_type": "stream",
     "text": [
      "Stats by fraud status:\n",
      "                 mean  count\n",
      "is_fraud                   \n",
      "0         251.916103    195\n",
      "1         264.062000      5\n"
     ]
    }
   ],
   "source": [
    "print(\"Stats by fraud status:\\n\", fraud_stats)"
   ]
  },
  {
   "cell_type": "code",
   "execution_count": 27,
   "id": "a14eb683-847f-4d15-9a46-73a669b6fee3",
   "metadata": {},
   "outputs": [
    {
     "data": {
      "text/html": [
       "<div>\n",
       "<style scoped>\n",
       "    .dataframe tbody tr th:only-of-type {\n",
       "        vertical-align: middle;\n",
       "    }\n",
       "\n",
       "    .dataframe tbody tr th {\n",
       "        vertical-align: top;\n",
       "    }\n",
       "\n",
       "    .dataframe thead th {\n",
       "        text-align: right;\n",
       "    }\n",
       "</style>\n",
       "<table border=\"1\" class=\"dataframe\">\n",
       "  <thead>\n",
       "    <tr style=\"text-align: right;\">\n",
       "      <th></th>\n",
       "      <th>transaction_id</th>\n",
       "      <th>user_id</th>\n",
       "      <th>card_type</th>\n",
       "      <th>amount_usd</th>\n",
       "      <th>rate_ngn</th>\n",
       "      <th>timestamp</th>\n",
       "      <th>is_fraud</th>\n",
       "    </tr>\n",
       "  </thead>\n",
       "  <tbody>\n",
       "    <tr>\n",
       "      <th>0</th>\n",
       "      <td>1</td>\n",
       "      <td>39</td>\n",
       "      <td>Amazon</td>\n",
       "      <td>322.340</td>\n",
       "      <td>531.38</td>\n",
       "      <td>2025-01-01 00:00:00</td>\n",
       "      <td>0</td>\n",
       "    </tr>\n",
       "    <tr>\n",
       "      <th>1</th>\n",
       "      <td>2</td>\n",
       "      <td>29</td>\n",
       "      <td>Steam</td>\n",
       "      <td>254.405</td>\n",
       "      <td>518.47</td>\n",
       "      <td>2025-01-01 01:00:00</td>\n",
       "      <td>0</td>\n",
       "    </tr>\n",
       "    <tr>\n",
       "      <th>2</th>\n",
       "      <td>3</td>\n",
       "      <td>15</td>\n",
       "      <td>Amazon</td>\n",
       "      <td>488.170</td>\n",
       "      <td>466.26</td>\n",
       "      <td>2025-01-01 02:00:00</td>\n",
       "      <td>1</td>\n",
       "    </tr>\n",
       "    <tr>\n",
       "      <th>3</th>\n",
       "      <td>4</td>\n",
       "      <td>43</td>\n",
       "      <td>Amazon</td>\n",
       "      <td>262.990</td>\n",
       "      <td>541.09</td>\n",
       "      <td>2025-01-01 03:00:00</td>\n",
       "      <td>0</td>\n",
       "    </tr>\n",
       "    <tr>\n",
       "      <th>4</th>\n",
       "      <td>5</td>\n",
       "      <td>8</td>\n",
       "      <td>iTunes</td>\n",
       "      <td>168.250</td>\n",
       "      <td>532.25</td>\n",
       "      <td>2025-01-01 04:00:00</td>\n",
       "      <td>0</td>\n",
       "    </tr>\n",
       "  </tbody>\n",
       "</table>\n",
       "</div>"
      ],
      "text/plain": [
       "   transaction_id  user_id card_type  amount_usd  rate_ngn  \\\n",
       "0               1       39    Amazon     322.340    531.38   \n",
       "1               2       29     Steam     254.405    518.47   \n",
       "2               3       15    Amazon     488.170    466.26   \n",
       "3               4       43    Amazon     262.990    541.09   \n",
       "4               5        8    iTunes     168.250    532.25   \n",
       "\n",
       "            timestamp  is_fraud  \n",
       "0 2025-01-01 00:00:00         0  \n",
       "1 2025-01-01 01:00:00         0  \n",
       "2 2025-01-01 02:00:00         1  \n",
       "3 2025-01-01 03:00:00         0  \n",
       "4 2025-01-01 04:00:00         0  "
      ]
     },
     "execution_count": 27,
     "metadata": {},
     "output_type": "execute_result"
    }
   ],
   "source": [
    "df.head()"
   ]
  },
  {
   "cell_type": "code",
   "execution_count": 28,
   "id": "b617cdc0-485f-4dd6-bf22-a707acebea43",
   "metadata": {},
   "outputs": [
    {
     "data": {
      "text/plain": [
       "timestamp\n",
       "2025-01-01    6135.120\n",
       "2025-01-02    4723.605\n",
       "2025-01-03    5620.840\n",
       "2025-01-04    6994.825\n",
       "2025-01-05    6755.550\n",
       "2025-01-06    5771.875\n",
       "2025-01-07    5456.715\n",
       "2025-01-08    6929.885\n",
       "2025-01-09    2055.535\n",
       "Name: amount_usd, dtype: float64"
      ]
     },
     "execution_count": 28,
     "metadata": {},
     "output_type": "execute_result"
    }
   ],
   "source": [
    "df.groupby(df['timestamp'].dt.date)['amount_usd'].sum()"
   ]
  },
  {
   "cell_type": "code",
   "execution_count": 31,
   "id": "4856b563-bb7c-4791-a905-374fa7030d55",
   "metadata": {},
   "outputs": [],
   "source": [
    "import numpy as np\n",
    "mean_amount = np.mean(df['amount_usd'])\n",
    "median_amount = np.median(df['amount_usd'])\n",
    "std_amount = np.std(df['amount_usd'])"
   ]
  },
  {
   "cell_type": "code",
   "execution_count": 32,
   "id": "9854f483-f0c3-4e08-b15d-74c644d27624",
   "metadata": {},
   "outputs": [
    {
     "name": "stdout",
     "output_type": "stream",
     "text": [
      "Mean Amount: 252.22\n",
      "Median Amount: 254.41\n",
      "Standard Deviation Amount: 145.72\n"
     ]
    }
   ],
   "source": [
    "print(f\"Mean Amount: {mean_amount:.2f}\")\n",
    "print(f\"Median Amount: {median_amount:.2f}\")\n",
    "print(f\"Standard Deviation Amount: {std_amount:.2f}\")"
   ]
  },
  {
   "cell_type": "code",
   "execution_count": 33,
   "id": "a77a8aa9-ac2f-43c2-b44b-862e1130f251",
   "metadata": {},
   "outputs": [
    {
     "name": "stdout",
     "output_type": "stream",
     "text": [
      "Fraud Mean Amount: 264.06\n",
      "Non-Fraud Mean Amount: 251.92\n"
     ]
    }
   ],
   "source": [
    "fraud_amounts = df[df['is_fraud'] == 1]['amount_usd']\n",
    "non_fraud_amounts = df[df['is_fraud'] == 0]['amount_usd']\n",
    "\n",
    "print(f\"Fraud Mean Amount: {np.mean(fraud_amounts):.2f}\")\n",
    "print(f\"Non-Fraud Mean Amount: {np.mean(non_fraud_amounts):.2f}\")"
   ]
  },
  {
   "cell_type": "code",
   "execution_count": null,
   "id": "c6691655-d202-4144-b669-695c371dae05",
   "metadata": {},
   "outputs": [],
   "source": [
    "fraud_percentage = (df['is_fraud'].sum() / len(df)) * 100\n",
    "print(f\"Fraud Percentage: {fraud_percentage:.2f}%\")"
   ]
  },
  {
   "cell_type": "code",
   "execution_count": 35,
   "id": "029a15bc-d79d-4234-8541-fa5d26cf31c6",
   "metadata": {},
   "outputs": [
    {
     "data": {
      "image/png": "[encoded data removed]",
      "text/plain": [
       "<Figure size 640x480 with 1 Axes>"
      ]
     },
     "metadata": {},
     "output_type": "display_data"
    }
   ],
   "source": [
    "import matplotlib.pyplot as plt\n",
    "\n",
    "plt.hist(df['amount_usd'], bins=20, edgecolor='black')\n",
    "plt.title('Distribution of Transaction Amounts')\n",
    "plt.xlabel('Amount (USD)')\n",
    "plt.ylabel('Frequency')\n",
    "plt.show()"
   ]
  },
  {
   "cell_type": "code",
   "execution_count": null,
   "id": "e45f0e67-b251-41a5-8e54-db852534a2f2",
   "metadata": {},
   "outputs": [],
   "source": []
  },
  {
   "cell_type": "code",
   "execution_count": null,
   "id": "749c7244-c0d3-47c6-b5c9-c904161948aa",
   "metadata": {},
   "outputs": [],
   "source": []
  },
  {
   "cell_type": "code",
   "execution_count": null,
   "id": "9c36abc6-3426-4d6d-ac45-4dd83c83306b",
   "metadata": {},
   "outputs": [],
   "source": []
  },
  {
   "cell_type": "code",
   "execution_count": null,
   "id": "410680ae-ca48-4c5c-b179-82c2a49b8960",
   "metadata": {},
   "outputs": [],
   "source": []
  },
  {
   "cell_type": "code",
   "execution_count": null,
   "id": "b13da8ba-e1da-4554-900d-574841f5663c",
   "metadata": {},
   "outputs": [],
   "source": []
  },
  {
   "cell_type": "code",
   "execution_count": null,
   "id": "b9abe9aa-e8c1-41ea-83ba-4dd38eac4f89",
   "metadata": {},
   "outputs": [],
   "source": []
  },
  {
   "cell_type": "code",
   "execution_count": null,
   "id": "01b2b2e7-041c-4a32-abba-2068bc89a751",
   "metadata": {},
   "outputs": [],
   "source": []
  },
  {
   "cell_type": "code",
   "execution_count": null,
   "id": "0e22b88f-b60e-4c04-a65e-84c7a70fc4b5",
   "metadata": {},
   "outputs": [],
   "source": []
  }
 ],
 "metadata": {
  "kernelspec": {
   "display_name": "Python 3 (ipykernel)",
   "language": "python",
   "name": "python3"
  },
  "language_info": {
   "codemirror_mode": {
    "name": "ipython",
    "version": 3
   },
   "file_extension": ".py",
   "mimetype": "text/x-python",
   "name": "python",
   "nbconvert_exporter": "python",
   "pygments_lexer": "ipython3",
   "version": "3.11.4"
  }
 },
 "nbformat": 4,
 "nbformat_minor": 5
}
